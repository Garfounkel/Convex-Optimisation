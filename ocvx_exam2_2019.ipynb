{
 "cells": [
  {
   "cell_type": "markdown",
   "metadata": {},
   "source": [
    "# 1) Descentes de gradient sans contraintes\n",
    "-------------------------------------------\n"
   ]
  },
  {
   "cell_type": "markdown",
   "metadata": {},
   "source": [
    "Le nombre de conditionnement d'un fonction f(x1, x2) = a*x1² + b*x2²est équivalent au nombre de conditionnement de sa Hessienne\n",
    "\n",
    "Pour donner une famille de fonction, "
   ]
  },
  {
   "cell_type": "code",
   "execution_count": 1,
   "metadata": {
    "collapsed": true
   },
   "outputs": [],
   "source": [
    "import numpy as np\n",
    "import matplotlib.pyplot as plt"
   ]
  },
  {
   "cell_type": "code",
   "execution_count": 2,
   "metadata": {
    "inputHidden": false,
    "outputHidden": false
   },
   "outputs": [
    {
     "name": "stdout",
     "output_type": "stream",
     "text": [
      "[[ 0.5  0.  -0.5]\n",
      " [ 0.   1.   0. ]\n",
      " [-0.5  0.   0.5]]\n",
      "[[ 0.5  0.   0.5]\n",
      " [ 0.   1.   0. ]\n",
      " [-0.5  0.   0.5]]\n",
      "3.16227766017 \n",
      " 1.41421356237\n"
     ]
    }
   ],
   "source": [
    "a = 1\n",
    "b = 1\n",
    "\n",
    "toto = np.array([[2*a, 0], [0, 2*b]])\n",
    "\n",
    "m = np.array([[1, 0, -1], [0, 1, 0], [1, 0, 1]])\n",
    "nb_cond1 = np.linalg.norm(m) * np.linalg.norm(np.linalg.inv(m))\n",
    "nb_cond2 = np.linalg.cond(m)\n",
    "\n",
    "test = m * np.linalg.inv(m)\n",
    "print(test)\n",
    "print(np.linalg.inv(m))\n",
    "\n",
    "\n",
    "print(nb_cond1, \"\\n\", nb_cond2)"
   ]
  },
  {
   "cell_type": "code",
   "execution_count": 4,
   "metadata": {},
   "outputs": [],
   "source": [
    "def gradient_descent(x, ob_function, d_direction, \n",
    "                     rate=(lambda x, y: 0.01),\n",
    "                     decay_function=(lambda x, y: abs(x[0] - y[0])),\n",
    "                     tolerance=0.0001, max_iter=1000,\n",
    "                     plot_f=(lambda x, y: None)):\n",
    "    \"\"\"Gradient Descent.\n",
    "    \n",
    "    Computes minimal value of a convex function and local minimum of none convex function.\n",
    "    \n",
    "    Args:\n",
    "        x (ndarray): initial starting point for descent.\n",
    "        ob_function: objective function of optimisation problem, has input ndarray and outputs float.\n",
    "        d_direction: function computing descent direction, outputs ndarray.\n",
    "        rate: function computing learning rate, outputs float.\n",
    "        decay_function: function computing decay, outputs float.\n",
    "        tolerance (float): slack tolerance.\n",
    "        max_iter (int): upper bound on number of iterations.      \n",
    "        plot_f: plotting function for iteration points.\n",
    "         \n",
    "    Output:\n",
    "        (int, int) minimizer, minimal value.\n",
    "        \n",
    "    \"\"\"\n",
    "    n_iter = 0\n",
    "    decay = tolerance + 10  # Make sure that we get into first loop\n",
    "    y = ob_function(x)\n",
    "    while decay > tolerance and n_iter < max_iter:\n",
    "        x = x - rate(ob_function, n_iter) * d_direction(ob_function, x)\n",
    "        tmp_y = ob_function(x)\n",
    "        decay = decay_function(y, tmp_y)\n",
    "        y = tmp_y\n",
    "        n_iter += 1\n",
    "        plot_f(x, y)\n",
    "    msg = \" Iteration nu. = {}\\n approx. = {}\\n ob value = {}\\n and decay = {}.\"\n",
    "    print(msg.format(n_iter, x.flatten(), y[0], decay))\n",
    "    return (x, y) if decay <= tolerance else warnings.warn(\"Decay didn't get under tolerance rate.\", RuntimeWarning)"
   ]
  },
  {
   "cell_type": "code",
   "execution_count": null,
   "metadata": {
    "collapsed": true
   },
   "outputs": [],
   "source": []
  }
 ],
 "metadata": {
  "kernel_info": {
   "name": "tensorflow"
  },
  "kernelspec": {
   "display_name": "Python 3",
   "language": "python",
   "name": "python3"
  },
  "language_info": {
   "codemirror_mode": {
    "name": "ipython",
    "version": 3
   },
   "file_extension": ".py",
   "mimetype": "text/x-python",
   "name": "python",
   "nbconvert_exporter": "python",
   "pygments_lexer": "ipython3",
   "version": "3.6.3"
  },
  "nteract": {
   "version": "0.9.1"
  }
 },
 "nbformat": 4,
 "nbformat_minor": 4
}
