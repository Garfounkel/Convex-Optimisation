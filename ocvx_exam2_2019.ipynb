{
  "cells": [
    {
      "cell_type": "markdown",
      "source": [
        "# 1) Descentes de gradient sans contraintes\n",
        "-------------------------------------------\n"
      ],
      "metadata": {}
    },
    {
      "cell_type": "code",
      "source": [
        "import numpy as np\n",
        "\n\n",
        "a = 1\n",
        "b = 1\n",
        "\n",
        "toto = np.array([[2*a, 0], [0, 2*b]])\n",
        "\n",
        "m = np.array([[1, 0, -1], [0, 1, 0], [1, 0, 1]])\n",
        "nb_cond1 = np.linalg.norm(m) * np.linalg.norm(np.linalg.inv(m))\n",
        "nb_cond2 = np.linalg.cond(m)\n",
        "\n",
        "test = m * np.linalg.inv(m)\n",
        "print(test)\n",
        "print(np.linalg.inv(m))\n",
        "\n\nprint(nb_cond1, \"\\n\", nb_cond2)"
      ],
      "outputs": [
        {
          "output_type": "stream",
          "name": "stdout",
          "text": [
            "[[ 0.5  0.  -0.5]\n",
            " [ 0.   1.   0. ]\n",
            " [-0.5  0.   0.5]]\n",
            "[[ 0.5  0.   0.5]\n",
            " [ 0.   1.   0. ]\n",
            " [-0.5  0.   0.5]]\n",
            "3.1622776601683795 \n",
            " 1.4142135623730951\n"
          ]
        }
      ],
      "execution_count": 21,
      "metadata": {
        "collapsed": false,
        "outputHidden": false,
        "inputHidden": false
      }
    }
  ],
  "metadata": {
    "kernel_info": {
      "name": "tensorflow"
    },
    "language_info": {
      "version": "3.5.2",
      "name": "python",
      "mimetype": "text/x-python",
      "nbconvert_exporter": "python",
      "pygments_lexer": "ipython3",
      "codemirror_mode": {
        "version": 3,
        "name": "ipython"
      },
      "file_extension": ".py"
    },
    "kernelspec": {
      "name": "tensorflow",
      "language": "python",
      "display_name": "tensorflow"
    },
    "nteract": {
      "version": "0.9.1"
    }
  },
  "nbformat": 4,
  "nbformat_minor": 4
}