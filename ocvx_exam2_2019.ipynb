{
 "cells": [
  {
   "cell_type": "markdown",
   "metadata": {},
   "source": [
    "# 1) Descentes de gradient sans contraintes\n",
    "-------------------------------------------\n"
   ]
  },
  {
   "cell_type": "markdown",
   "metadata": {},
   "source": [
    "1-1) Soit la famille de fonction: $f(x, y) = \\frac{x^2}{2} + \\frac{ay^2}{2} ~\\forall~ a \\in [1; +\\inf]$\n",
    "\n",
    "Le nombre de conditionnement d'une fonction de cette famille est équivalent au nombre de conditionnement de sa Hessienne:\n",
    "\n",
    "$H = \\begin{pmatrix} 1 & 0 \\\\ 0 & a \\end{pmatrix}$\n",
    "\n",
    "On choisit d'utiliser la norme $l_2$ pour calculer le nombre de conditionnement de notre matrice.\n",
    "Dans ce cadre, le nombre de conditionnement est égal à: $||H||_2 \\times ||H^{-1}||_2$\n",
    "\n",
    "Dans notre cas, le nombre de conditionnement correspond à la plus grande valeur singulière divisée par la plus petite. Donc le nombre de conditionnement est $\\frac{a}{1} = a$ avec $a \\in [1; +\\inf[$"
   ]
  },
  {
   "cell_type": "code",
   "execution_count": 266,
   "metadata": {},
   "outputs": [],
   "source": [
    "import numpy as np\n",
    "import matplotlib.pyplot as plt\n",
    "import warnings\n",
    "from scipy import misc"
   ]
  },
  {
   "cell_type": "code",
   "execution_count": 267,
   "metadata": {},
   "outputs": [],
   "source": [
    "def partial_derivative(ob_function, point, var=0):\n",
    "    args = point\n",
    "    def wraps(x):\n",
    "        args[var] = x\n",
    "        return ob_function(args)\n",
    "    return misc.derivative(wraps, point[var], dx=1e-6)"
   ]
  },
  {
   "cell_type": "code",
   "execution_count": 276,
   "metadata": {},
   "outputs": [],
   "source": [
    "def d_gd(ob_function, x):\n",
    "    dim = x.shape[0]\n",
    "    gradient = partial_derivative(ob_function, x, 0)\n",
    "    for i in range(1, dim):\n",
    "        gradient = np.vstack((gradient, partial_derivative(ob_function, x, i)))\n",
    "    return gradient"
   ]
  },
  {
   "cell_type": "code",
   "execution_count": 280,
   "metadata": {
    "inputHidden": false,
    "outputHidden": false
   },
   "outputs": [],
   "source": [
    "def build_obj(a):\n",
    "    def obj_func(x):\n",
    "        return (x[0] ** 2)/2 + a*(x[1] ** 2)/2\n",
    "    return obj_func\n",
    "\n",
    "def gradient_descent(x, ob_function, d_direction, \n",
    "                     rate=(lambda x, y: 0.01),\n",
    "                     decay_function=(lambda x, y: abs(x[0] - y[0])),\n",
    "                     tolerance=0.0001, max_iter=1000,\n",
    "                     plot_f=(lambda x, y: None),\n",
    "                     verbose=False,\n",
    "                     norm=2):\n",
    "    \"\"\"Gradient Descent.\n",
    "    \n",
    "    Computes minimal value of a convex function and local minimum of none convex function.\n",
    "    \n",
    "    Args:\n",
    "        x (ndarray): initial starting point for descent.\n",
    "        ob_function: objective function of optimisation problem, has input ndarray and outputs float.\n",
    "        d_direction: function computing descent direction, outputs ndarray.\n",
    "        rate: function computing learning rate, outputs float.\n",
    "        decay_function: function computing decay, outputs float.\n",
    "        tolerance (float): slack tolerance.\n",
    "        max_iter (int): upper bound on number of iterations.      \n",
    "        plot_f: plotting function for iteration points.\n",
    "         \n",
    "    Output:\n",
    "        (int, int) minimizer, minimal value.\n",
    "        \n",
    "    \"\"\"\n",
    "    n_iter = 0\n",
    "    decay = tolerance + 1\n",
    "    y = ob_function(x)\n",
    "    plot_f(x, y)\n",
    "    while decay > tolerance and n_iter < max_iter:\n",
    "        grad = d_direction(ob_function, x)\n",
    "        x = x - rate(ob_function, n_iter) * grad\n",
    "        decay = np.linalg.norm(grad, norm)\n",
    "        n_iter += 1\n",
    "        y = ob_function(x)\n",
    "        plot_f(x, y)\n",
    "    if verbose:\n",
    "        print(' Iteration nu. = {}\\n approx. = {}\\n ob value = {}\\n and decay = {}.'.format(n_iter, x.flatten(), y[0], decay))\n",
    "    if decay > tolerance:\n",
    "        warnings.warn(\"Decay didn't get under tolerance rate.\", RuntimeWarning)\n",
    "    return ((x, y), n_iter)"
   ]
  },
  {
   "cell_type": "code",
   "execution_count": 272,
   "metadata": {
    "inputHidden": false,
    "outputHidden": false
   },
   "outputs": [],
   "source": [
    "def eval_nb_iterations(step, k=0, set_size=60, max_value=50, start=np.array([[1], [1]], dtype=float)):\n",
    "\n",
    "    a_values = np.linspace(1, max_value, num=set_size)\n",
    "    iterations = np.zeros((set_size, 1))\n",
    "    conditioning = np.zeros((set_size, 1))\n",
    "    results = np.zeros((set_size, 1))\n",
    "\n",
    "    count = 0\n",
    "    for a in a_values:\n",
    "        m = np.array([[1, 0], [0, a]])\n",
    "        nb_cond1 = np.linalg.norm(m, 2) * np.linalg.norm(np.linalg.inv(m), 2)\n",
    "        conditioning[count, 0] = nb_cond1\n",
    "    \n",
    "        obj = build_obj(a)\n",
    "        derivative_obj = build_derivative_obj(a)\n",
    "\n",
    "        (x, y), n_iter = gradient_descent(start, obj, d_sgd, \n",
    "                                     rate=(lambda x, y: step),\n",
    "                                     tolerance=0.0001, max_iter=1000,\n",
    "                                     plot_f=(lambda x, y: None))\n",
    "        iterations[count, 0] = n_iter\n",
    "        results[count, 0] = y[0]\n",
    "        count+=1\n",
    "\n",
    "    plt.plot(results, 'g', iterations, 'r', conditioning, 'b')\n",
    "    plt.show()"
   ]
  },
  {
   "cell_type": "markdown",
   "metadata": {},
   "source": [
    "**Pour un pas de 0.001**"
   ]
  },
  {
   "cell_type": "code",
   "execution_count": 263,
   "metadata": {},
   "outputs": [
    {
     "data": {
      "image/png": "[encoded data removed]",
      "text/plain": [
       "<matplotlib.figure.Figure at 0x7f8f20fa2cf8>"
      ]
     },
     "metadata": {},
     "output_type": "display_data"
    }
   ],
   "source": [
    "eval_nb_iterations(0.05, set_size=50, max_value=30)"
   ]
  },
  {
   "cell_type": "code",
   "execution_count": null,
   "metadata": {},
   "outputs": [],
   "source": [
    "eval_nb_iterations(0.040, set_size=50, max_value=40)"
   ]
  },
  {
   "cell_type": "markdown",
   "metadata": {},
   "source": [
    "On remarque deux choses pour notre famille:\n",
    "- Le nombre d'itérations de la descente de gradient diminue quand le nombre de conditionnement augmente.\n",
    "- A partir d'un certain nombre de conditionnement limite, la descente de gradient diverge.\n",
    "\n",
    "On effectue maintenant des tests pour plusieurs pas différents:"
   ]
  },
  {
   "cell_type": "markdown",
   "metadata": {},
   "source": [
    "**Pour un pas de 0.01:**"
   ]
  },
  {
   "cell_type": "code",
   "execution_count": null,
   "metadata": {},
   "outputs": [],
   "source": [
    "eval_nb_iterations(0.01, set_size=150, max_value=100)"
   ]
  },
  {
   "cell_type": "code",
   "execution_count": null,
   "metadata": {},
   "outputs": [],
   "source": [
    "eval_nb_iterations(0.01, set_size=300, max_value=195)"
   ]
  },
  {
   "cell_type": "markdown",
   "metadata": {},
   "source": [
    "**Pour un pas de 0.02:**"
   ]
  },
  {
   "cell_type": "code",
   "execution_count": null,
   "metadata": {},
   "outputs": [],
   "source": [
    "eval_nb_iterations(0.02, set_size=140, max_value=95)"
   ]
  },
  {
   "cell_type": "markdown",
   "metadata": {},
   "source": [
    "**Pour un pas de 0.03:**"
   ]
  },
  {
   "cell_type": "code",
   "execution_count": null,
   "metadata": {},
   "outputs": [],
   "source": [
    "eval_nb_iterations(0.03, set_size=200, max_value=63)"
   ]
  },
  {
   "cell_type": "code",
   "execution_count": null,
   "metadata": {},
   "outputs": [],
   "source": [
    "eval_nb_iterations(0.15, set_size=200, max_value=10)"
   ]
  },
  {
   "cell_type": "code",
   "execution_count": 265,
   "metadata": {},
   "outputs": [
    {
     "ename": "TypeError",
     "evalue": "derivative_obj() takes 1 positional argument but 2 were given",
     "output_type": "error",
     "traceback": [
      "\u001b[0;31m---------------------------------------------------------------------------\u001b[0m",
      "\u001b[0;31mTypeError\u001b[0m                                 Traceback (most recent call last)",
      "\u001b[0;32m<ipython-input-265-847bb9f2935e>\u001b[0m in \u001b[0;36m<module>\u001b[0;34m()\u001b[0m\n\u001b[1;32m     12\u001b[0m                              \u001b[0mtolerance\u001b[0m\u001b[0;34m=\u001b[0m\u001b[0;36m0.0001\u001b[0m\u001b[0;34m,\u001b[0m \u001b[0mmax_iter\u001b[0m\u001b[0;34m=\u001b[0m\u001b[0;36m1000\u001b[0m\u001b[0;34m,\u001b[0m\u001b[0;34m\u001b[0m\u001b[0m\n\u001b[1;32m     13\u001b[0m                              \u001b[0mplot_f\u001b[0m\u001b[0;34m=\u001b[0m\u001b[0;34m(\u001b[0m\u001b[0;32mlambda\u001b[0m \u001b[0mx\u001b[0m\u001b[0;34m,\u001b[0m \u001b[0my\u001b[0m\u001b[0;34m:\u001b[0m \u001b[0;32mNone\u001b[0m\u001b[0;34m)\u001b[0m\u001b[0;34m,\u001b[0m\u001b[0;34m\u001b[0m\u001b[0m\n\u001b[0;32m---> 14\u001b[0;31m                              verbose=True)\n\u001b[0m\u001b[1;32m     15\u001b[0m \u001b[0;34m\u001b[0m\u001b[0m\n\u001b[1;32m     16\u001b[0m \u001b[0ma\u001b[0m \u001b[0;34m=\u001b[0m \u001b[0;36m100\u001b[0m\u001b[0;34m\u001b[0m\u001b[0m\n",
      "\u001b[0;32m<ipython-input-264-5b10d2b856c4>\u001b[0m in \u001b[0;36mgradient_descent\u001b[0;34m(x, ob_function, d_direction, rate, decay_function, tolerance, max_iter, plot_f, verbose, norm)\u001b[0m\n\u001b[1;32m     34\u001b[0m     \u001b[0my\u001b[0m \u001b[0;34m=\u001b[0m \u001b[0mob_function\u001b[0m\u001b[0;34m(\u001b[0m\u001b[0mx\u001b[0m\u001b[0;34m)\u001b[0m\u001b[0;34m\u001b[0m\u001b[0m\n\u001b[1;32m     35\u001b[0m     \u001b[0;32mwhile\u001b[0m \u001b[0mdecay\u001b[0m \u001b[0;34m>\u001b[0m \u001b[0mtolerance\u001b[0m \u001b[0;32mand\u001b[0m \u001b[0mn_iter\u001b[0m \u001b[0;34m<\u001b[0m \u001b[0mmax_iter\u001b[0m\u001b[0;34m:\u001b[0m\u001b[0;34m\u001b[0m\u001b[0m\n\u001b[0;32m---> 36\u001b[0;31m         \u001b[0mgrad\u001b[0m \u001b[0;34m=\u001b[0m \u001b[0md_direction\u001b[0m\u001b[0;34m(\u001b[0m\u001b[0mob_function\u001b[0m\u001b[0;34m,\u001b[0m \u001b[0mx\u001b[0m\u001b[0;34m)\u001b[0m\u001b[0;34m\u001b[0m\u001b[0m\n\u001b[0m\u001b[1;32m     37\u001b[0m         \u001b[0mx\u001b[0m \u001b[0;34m=\u001b[0m \u001b[0mx\u001b[0m \u001b[0;34m-\u001b[0m \u001b[0mrate\u001b[0m\u001b[0;34m(\u001b[0m\u001b[0mob_function\u001b[0m\u001b[0;34m,\u001b[0m \u001b[0mn_iter\u001b[0m\u001b[0;34m)\u001b[0m \u001b[0;34m*\u001b[0m \u001b[0mgrad\u001b[0m\u001b[0;34m\u001b[0m\u001b[0m\n\u001b[1;32m     38\u001b[0m         \u001b[0mtmp_y\u001b[0m \u001b[0;34m=\u001b[0m \u001b[0mob_function\u001b[0m\u001b[0;34m(\u001b[0m\u001b[0mx\u001b[0m\u001b[0;34m)\u001b[0m\u001b[0;34m\u001b[0m\u001b[0m\n",
      "\u001b[0;31mTypeError\u001b[0m: derivative_obj() takes 1 positional argument but 2 were given"
     ]
    }
   ],
   "source": [
    "a = 5\n",
    "m = np.array([[1, 0], [0, a]])\n",
    "nb_cond1 = np.linalg.norm(m, 2) * np.linalg.norm(np.linalg.inv(m), 2)\n",
    "\n",
    "obj = build_obj(a)\n",
    "derivative_obj = build_derivative_obj(a)\n",
    "\n",
    "start = np.array([[1], [1]], dtype=float)\n",
    "P, n_iter = gradient_descent(start, obj, derivative_obj, \n",
    "                             rate=(lambda x, y: 0.15),\n",
    "                             decay_function=(lambda x, y: abs(x[0] - y[0])),\n",
    "                             tolerance=0.0001, max_iter=1000,\n",
    "                             plot_f=(lambda x, y: None),\n",
    "                             verbose=True)\n",
    "\n",
    "a = 100\n",
    "m = np.array([[1, 0], [0, a]])\n",
    "nb_cond1 = np.linalg.norm(m, 2) * np.linalg.norm(np.linalg.inv(m), 2)\n",
    "\n",
    "obj = build_obj(a)\n",
    "derivative_obj = build_derivative_obj(a)\n",
    "\n",
    "start = np.array([[1], [1]], dtype=float)\n",
    "P, n_iter = gradient_descent(start, obj, derivative_obj, \n",
    "                             rate=(lambda x, y: 0.01),\n",
    "                             decay_function=(lambda x, y: abs(x[0] - y[0])),\n",
    "                             tolerance=0.0001, max_iter=1000,\n",
    "                             plot_f=(lambda x, y: None),\n",
    "                             verbose=True)\n"
   ]
  },
  {
   "cell_type": "markdown",
   "metadata": {},
   "source": [
    "On remarque que la deuxième valeur, calculée avec un nombre de conditionnement plus fort, est plus précise."
   ]
  },
  {
   "cell_type": "markdown",
   "metadata": {},
   "source": [
    "**1-2) Comparaison nomres L1 - L2 **"
   ]
  },
  {
   "cell_type": "code",
   "execution_count": null,
   "metadata": {},
   "outputs": [],
   "source": [
    "def eval_nb_iterations_l1_l2(step, set_size=60, max_value=50):\n",
    "\n",
    "    a_values = np.linspace(1, max_value, num=set_size)\n",
    "    iterations = np.zeros((set_size, 1))\n",
    "    iterations2 = np.zeros((set_size, 1))\n",
    "    conditioning = np.zeros((set_size, 1))\n",
    "\n",
    "    count = 0\n",
    "    for a in a_values:\n",
    "        m = np.array([[1, 0], [0, a]])\n",
    "        nb_cond1 = np.linalg.norm(m, 2) * np.linalg.norm(np.linalg.inv(m), 2)\n",
    "        conditioning[count, 0] = nb_cond1\n",
    "    \n",
    "        obj = build_obj(a)\n",
    "        derivative_obj = build_derivative_obj(a)\n",
    "\n",
    "        start = np.array([[1], [1]], dtype=float)\n",
    "        P, n_iter = gradient_descent(start, obj, d_sgd, \n",
    "                                     rate=(lambda x, y: step),\n",
    "                                     decay_function=(lambda x, y: abs(x[0] - y[0])),\n",
    "                                     tolerance=0.0001, max_iter=1000,\n",
    "                                     plot_f=(lambda x, y: None))\n",
    "        P2, n_iter2 = gradient_descent(start, obj, d_sgd, \n",
    "                                     rate=(lambda x, y: step),\n",
    "                                     decay_function=(lambda x, y: np.sqrt(x[0]**2 - y[0]**2)),\n",
    "                                     tolerance=0.0001, max_iter=1000,\n",
    "                                     plot_f=(lambda x, y: None))\n",
    "        iterations[count, 0] = n_iter\n",
    "        iterations2[count, 0] = n_iter2\n",
    "        count+=1\n",
    "\n",
    "    # red = L1-norm\n",
    "    # green = L2-norm\n",
    "    plt.plot(iterations, 'r', conditioning, 'b', iterations2, 'g')\n",
    "    plt.show()"
   ]
  },
  {
   "cell_type": "code",
   "execution_count": null,
   "metadata": {},
   "outputs": [],
   "source": [
    "eval_nb_iterations_l1_l2(0.025, 50, 40)"
   ]
  },
  {
   "cell_type": "code",
   "execution_count": null,
   "metadata": {},
   "outputs": [],
   "source": [
    "eval_nb_iterations_l1_l2(0.05, 20, 30)"
   ]
  },
  {
   "cell_type": "markdown",
   "metadata": {},
   "source": [
    "**1-3) learning rate scheduling**"
   ]
  },
  {
   "cell_type": "markdown",
   "metadata": {},
   "source": [
    "Le but ici est de proposer une méthode pour faire évoluer le rate. Dans notre cas, nous allons implémenter un rate décroissant en fonction du nombre d'itérations. Cette méthode devrait permettre de choisir un taux plus fort et donc de converger plus vite. Elle introduit cependant le risque de réduire le rate trop rapidement.\n",
    "\n",
    "$r_0$ et $k$ sont des hyperparamètres pour cet algorithme."
   ]
  },
  {
   "cell_type": "code",
   "execution_count": 317,
   "metadata": {},
   "outputs": [
    {
     "name": "stdout",
     "output_type": "stream",
     "text": [
      "result: [1.85916158e-08]\n",
      "start step: 0.3\n",
      "iterations: 140\n"
     ]
    },
    {
     "data": {
      "image/png": "[encoded data removed]",
      "text/plain": [
       "<matplotlib.figure.Figure at 0x7f8f22a80d30>"
      ]
     },
     "metadata": {},
     "output_type": "display_data"
    }
   ],
   "source": [
    "def plot_2d(ob_function, xmin=-4, xmax=4, ymin=-2, ymax=2, nb_pts_h=50, nb_pts_v=50):\n",
    "    x1 = np.linspace(xmin, xmax, nb_pts_h)\n",
    "    x2 = np.linspace(ymin, ymax, nb_pts_v)\n",
    "    X, Y = np.meshgrid(x1, x2)\n",
    "    Z = ob_function(np.stack((X,Y), axis=0))\n",
    "    plt.contour(X, Y, Z, cmap='RdGy')\n",
    "\n",
    "plt.figure(figsize=(10,10))\n",
    "plot_2d(obj)\n",
    "\n",
    "step = 0.3\n",
    "k = 0.015\n",
    "\n",
    "start=np.array([[-2], [1.5]], dtype=float)\n",
    "a = 8\n",
    "\n",
    "m = np.array([[1, 0], [0, a]])\n",
    "nb_cond1 = np.linalg.norm(m, 2) * np.linalg.norm(np.linalg.inv(m), 2)\n",
    "\n",
    "obj = build_obj(a)\n",
    "derivative_obj = build_derivative_obj(a)\n",
    "\n",
    "(x, y), n_iter = gradient_descent(start, obj, d_gd, \n",
    "                                  rate=(lambda x, y: step * np.exp(-k * y)),\n",
    "                                  tolerance=0.0001, max_iter=1000,\n",
    "                                  plot_f=(lambda x, y:plt.scatter(x[0], x[1], c='k')))\n",
    "result = y\n",
    "\n",
    "print(\"result: \" + str(result))\n",
    "print(\"start step: \" + str(step))\n",
    "print(\"iterations: \" + str(n_iter))"
   ]
  },
  {
   "cell_type": "code",
   "execution_count": 315,
   "metadata": {},
   "outputs": [
    {
     "data": {
      "image/png": "[encoded data removed]",
      "text/plain": [
       "<matplotlib.figure.Figure at 0x7f8f229ed048>"
      ]
     },
     "metadata": {},
     "output_type": "display_data"
    }
   ],
   "source": [
    "eval_nb_iterations(0.3, set_size=50, max_value=10)"
   ]
  },
  {
   "cell_type": "markdown",
   "metadata": {},
   "source": [
    "On peut remarquer que pour un rate de départ de 0.3, avec des nombres de conditionnement supérieurs à 7, la descente sans learning rate scheduling diverge. La méthode avec learning rate schedulin permet de corriger cet état de fait."
   ]
  },
  {
   "cell_type": "markdown",
   "metadata": {},
   "source": [
    "**1-4) descentes de gradient avancées**"
   ]
  },
  {
   "cell_type": "markdown",
   "metadata": {},
   "source": [
    "Descente accélérée de Nesterov:"
   ]
  },
  {
   "cell_type": "code",
   "execution_count": null,
   "metadata": {},
   "outputs": [],
   "source": [
    "def nesterov_gradient_descent(x, ob_function, d_direction, \n",
    "                     rate=(lambda x, y: 0.01),\n",
    "                     decay_function=(lambda x, y: abs(x[0] - y[0])),\n",
    "                     tolerance=0.0001, max_iter=1000,\n",
    "                     plot_f=(lambda x, y: None),\n",
    "                     verbose=False):\n",
    "    n_iter = 0\n",
    "    decay = tolerance + 10  # Make sure that we get into first loop\n",
    "    \n",
    "    y = ob_function(x)\n",
    "    y_t = x\n",
    "    t = 1\n",
    "    \n",
    "    while decay > tolerance and n_iter < max_iter:\n",
    "        curr_x = x - rate(ob_function, n_iter) * d_direction(ob_function, y_t)\n",
    "        curr_t = (1 + np.sqrt(1 + 4 * t**2)) / 2\n",
    "        curr_y = curr_x + ((t - 1)/curr_t) * (x - curr_x)\n",
    "        \n",
    "        y_t = curr_y\n",
    "        x = curr_x\n",
    "        t = curr_t\n",
    "        \n",
    "        tmp_y = ob_function(x)\n",
    "        decay = decay_function(y, tmp_y)\n",
    "        y = tmp_y\n",
    "        n_iter += 1\n",
    "        plot_f(x, y)\n",
    "    if verbose:\n",
    "        print(' Iteration nu. = {}\\n approx. = {}\\n ob value = {}\\n and decay = {}.'.format(n_iter, x.flatten(), y[0], decay))\n",
    "    return ((x, y), n_iter) if decay <= tolerance else warnings.warn(\"Decay didn't get under tolerance rate.\", RuntimeWarning)"
   ]
  },
  {
   "cell_type": "code",
   "execution_count": null,
   "metadata": {},
   "outputs": [],
   "source": [
    "def eval_nb_iterations_nesterov(step, set_size=60, max_value=50):\n",
    "\n",
    "    a_values = np.linspace(1, max_value, num=set_size)\n",
    "    iterations = np.zeros((set_size, 1))\n",
    "    iterations2 = np.zeros((set_size, 1))\n",
    "    conditioning = np.zeros((set_size, 1))\n",
    "\n",
    "    count = 0\n",
    "    for a in a_values:\n",
    "        m = np.array([[1, 0], [0, a]])\n",
    "        nb_cond1 = np.linalg.norm(m, 2) * np.linalg.norm(np.linalg.inv(m), 2)\n",
    "        conditioning[count, 0] = nb_cond1\n",
    "    \n",
    "        obj = build_obj(a)\n",
    "        derivative_obj = build_derivative_obj(a)\n",
    "\n",
    "        start = np.array([[1], [1]], dtype=float)\n",
    "        P, n_iter = nesterov_gradient_descent(start, obj, d_sgd, \n",
    "                                     rate=(lambda x, y: step),\n",
    "                                     decay_function=(lambda x, y: abs(x[0] - y[0])),\n",
    "                                     tolerance=0.0001, max_iter=1000,\n",
    "                                     plot_f=(lambda x, y: None))\n",
    "        P2, n_iter2 = gradient_descent(start, obj, d_sgd, \n",
    "                                     rate=(lambda x, y: step),\n",
    "                                     decay_function=(lambda x, y: abs(x[0] - y[0])),\n",
    "                                     tolerance=0.0001, max_iter=1000,\n",
    "                                     plot_f=(lambda x, y: None))\n",
    "        iterations[count, 0] = n_iter\n",
    "        iterations2[count, 0] = n_iter2\n",
    "        count+=1\n",
    "\n",
    "    # red = nesterov\n",
    "    # green = classic\n",
    "    plt.plot(iterations, 'r', conditioning, 'b', iterations2, 'g')\n",
    "    plt.show()"
   ]
  },
  {
   "cell_type": "code",
   "execution_count": null,
   "metadata": {},
   "outputs": [],
   "source": [
    "eval_nb_iterations_nesterov(0.01, 10, 10)"
   ]
  },
  {
   "cell_type": "code",
   "execution_count": null,
   "metadata": {},
   "outputs": [],
   "source": [
    "eval_nb_iterations_nesterov(0.01, 20, 100)"
   ]
  },
  {
   "cell_type": "code",
   "execution_count": null,
   "metadata": {},
   "outputs": [],
   "source": [
    "eval_nb_iterations_nesterov(0.01, 50, 1000)"
   ]
  },
  {
   "cell_type": "markdown",
   "metadata": {
    "collapsed": true
   },
   "source": []
  }
 ],
 "metadata": {
  "kernel_info": {
   "name": "tensorflow"
  },
  "kernelspec": {
   "display_name": "Python 3",
   "language": "python",
   "name": "python3"
  },
  "language_info": {
   "codemirror_mode": {
    "name": "ipython",
    "version": 3
   },
   "file_extension": ".py",
   "mimetype": "text/x-python",
   "name": "python",
   "nbconvert_exporter": "python",
   "pygments_lexer": "ipython3",
   "version": "3.6.4"
  },
  "nteract": {
   "version": "0.9.1"
  }
 },
 "nbformat": 4,
 "nbformat_minor": 4
}
